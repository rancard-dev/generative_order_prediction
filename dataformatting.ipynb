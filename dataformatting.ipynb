{
 "cells": [
  {
   "cell_type": "code",
   "execution_count": 18,
   "metadata": {},
   "outputs": [],
   "source": [
    "import pandas as pd\n",
    "import numpy as np"
   ]
  },
  {
   "cell_type": "code",
   "execution_count": 47,
   "metadata": {},
   "outputs": [],
   "source": [
    "df = pd.read_csv(\"New_User_Orders.csv\")"
   ]
  },
  {
   "cell_type": "code",
   "execution_count": 48,
   "metadata": {},
   "outputs": [
    {
     "data": {
      "text/html": [
       "<div>\n",
       "<style scoped>\n",
       "    .dataframe tbody tr th:only-of-type {\n",
       "        vertical-align: middle;\n",
       "    }\n",
       "\n",
       "    .dataframe tbody tr th {\n",
       "        vertical-align: top;\n",
       "    }\n",
       "\n",
       "    .dataframe thead th {\n",
       "        text-align: right;\n",
       "    }\n",
       "</style>\n",
       "<table border=\"1\" class=\"dataframe\">\n",
       "  <thead>\n",
       "    <tr style=\"text-align: right;\">\n",
       "      <th></th>\n",
       "      <th>User Number and FbMessengerID</th>\n",
       "      <th>Order Placed</th>\n",
       "      <th>Order_Time</th>\n",
       "    </tr>\n",
       "  </thead>\n",
       "  <tbody>\n",
       "    <tr>\n",
       "      <th>0</th>\n",
       "      <td>200000000.0</td>\n",
       "      <td>Fried Rice and Portion of Pork, Rice Dishes, Big</td>\n",
       "      <td>2020-11-23  11:09:11 - Morning</td>\n",
       "    </tr>\n",
       "    <tr>\n",
       "      <th>1</th>\n",
       "      <td>200000000.0</td>\n",
       "      <td>Jollof, Portion, Small</td>\n",
       "      <td>2020-11-16  10:54:03 - Morning</td>\n",
       "    </tr>\n",
       "    <tr>\n",
       "      <th>2</th>\n",
       "      <td>200000000.0</td>\n",
       "      <td>Chicken Delight (No Pork), Classic Pizzas, Small</td>\n",
       "      <td>2020-11-16  21:41:19 - Evening</td>\n",
       "    </tr>\n",
       "    <tr>\n",
       "      <th>3</th>\n",
       "      <td>200000000.0</td>\n",
       "      <td>Meateater, People's Favourites, Small</td>\n",
       "      <td>2020-11-17  11:21:49 - Morning</td>\n",
       "    </tr>\n",
       "    <tr>\n",
       "      <th>4</th>\n",
       "      <td>200000000.0</td>\n",
       "      <td>Opana, Red Sauce Pizzas, Small</td>\n",
       "      <td>2020-11-17  12:51:10 - Morning</td>\n",
       "    </tr>\n",
       "    <tr>\n",
       "      <th>5</th>\n",
       "      <td>200000000.0</td>\n",
       "      <td>Lovers Rock (No Pork), Classic Pizzas, Small</td>\n",
       "      <td>2020-11-18  13:21:22 - Afternoon</td>\n",
       "    </tr>\n",
       "    <tr>\n",
       "      <th>6</th>\n",
       "      <td>200199695.0</td>\n",
       "      <td>Fully Loaded, supreme pizzas, Large</td>\n",
       "      <td>2021-01-09  22:01:18 - Evening</td>\n",
       "    </tr>\n",
       "    <tr>\n",
       "      <th>7</th>\n",
       "      <td>200921635.0</td>\n",
       "      <td>Peri Peri chicken, classic pizzas, Large</td>\n",
       "      <td>2020-12-25  20:25:42 - Evening</td>\n",
       "    </tr>\n",
       "    <tr>\n",
       "      <th>8</th>\n",
       "      <td>203011533.0</td>\n",
       "      <td>Beef Sausage, terrific tuesday, Large</td>\n",
       "      <td>2021-02-16  12:50:16 - Morning</td>\n",
       "    </tr>\n",
       "    <tr>\n",
       "      <th>9</th>\n",
       "      <td>203051353.0</td>\n",
       "      <td>Peri Peri chicken, classic pizzas, Large</td>\n",
       "      <td>2021-01-15  11:57:06 - Morning</td>\n",
       "    </tr>\n",
       "  </tbody>\n",
       "</table>\n",
       "</div>"
      ],
      "text/plain": [
       "   User Number and FbMessengerID  \\\n",
       "0                    200000000.0   \n",
       "1                    200000000.0   \n",
       "2                    200000000.0   \n",
       "3                    200000000.0   \n",
       "4                    200000000.0   \n",
       "5                    200000000.0   \n",
       "6                    200199695.0   \n",
       "7                    200921635.0   \n",
       "8                    203011533.0   \n",
       "9                    203051353.0   \n",
       "\n",
       "                                       Order Placed  \\\n",
       "0  Fried Rice and Portion of Pork, Rice Dishes, Big   \n",
       "1                            Jollof, Portion, Small   \n",
       "2  Chicken Delight (No Pork), Classic Pizzas, Small   \n",
       "3             Meateater, People's Favourites, Small   \n",
       "4                    Opana, Red Sauce Pizzas, Small   \n",
       "5      Lovers Rock (No Pork), Classic Pizzas, Small   \n",
       "6               Fully Loaded, supreme pizzas, Large   \n",
       "7          Peri Peri chicken, classic pizzas, Large   \n",
       "8             Beef Sausage, terrific tuesday, Large   \n",
       "9          Peri Peri chicken, classic pizzas, Large   \n",
       "\n",
       "                         Order_Time  \n",
       "0    2020-11-23  11:09:11 - Morning  \n",
       "1    2020-11-16  10:54:03 - Morning  \n",
       "2    2020-11-16  21:41:19 - Evening  \n",
       "3    2020-11-17  11:21:49 - Morning  \n",
       "4    2020-11-17  12:51:10 - Morning  \n",
       "5  2020-11-18  13:21:22 - Afternoon  \n",
       "6    2021-01-09  22:01:18 - Evening  \n",
       "7    2020-12-25  20:25:42 - Evening  \n",
       "8    2021-02-16  12:50:16 - Morning  \n",
       "9    2021-01-15  11:57:06 - Morning  "
      ]
     },
     "execution_count": 48,
     "metadata": {},
     "output_type": "execute_result"
    }
   ],
   "source": [
    "df.head(10)"
   ]
  },
  {
   "cell_type": "code",
   "execution_count": 66,
   "metadata": {},
   "outputs": [
    {
     "data": {
      "text/plain": [
       "(7694,\n",
       " User Number and FbMessengerID    8157\n",
       " Order Placed                     8157\n",
       " Order_Time                       8157\n",
       " dtype: int64)"
      ]
     },
     "execution_count": 66,
     "metadata": {},
     "output_type": "execute_result"
    }
   ],
   "source": [
    "df[\"Order_Time\"].nunique(), df.count()\n"
   ]
  },
  {
   "cell_type": "code",
   "execution_count": 49,
   "metadata": {},
   "outputs": [],
   "source": [
    "numpy_data = df.to_numpy()"
   ]
  },
  {
   "cell_type": "code",
   "execution_count": 50,
   "metadata": {},
   "outputs": [],
   "source": [
    "sample_data = numpy_data[0:10]"
   ]
  },
  {
   "cell_type": "code",
   "execution_count": 51,
   "metadata": {},
   "outputs": [],
   "source": [
    " # order_food_dict = {uniq: [[order, time], [order, time],   [order, time], [order, time]],   uniq2: [[order, time], [order, time],   [order, time], [order, time]]}\n",
    "\n",
    "order_food_dict = {}\n",
    "for sample in sample_data:\n",
    "    #print(f\"Key - {sample[0]}     Value - {' '.join([a for a in sample[1].split()[0:-1]])} {sample[2]}\")\n",
    "    #print(\"\\n\")\n",
    "    key = sample[0]\n",
    "    values = sample[1:]\n",
    "    # check if the key is in the dictionary\n",
    "    if order_food_dict.get(key) is not None:\n",
    "         #   - get the value for that key\n",
    "        existing_values = order_food_dict.get(key)\n",
    "        # append new value to existing values\n",
    "        existing_values.append(values)\n",
    "        order_food_dict[key] = existing_values\n",
    "        pass\n",
    "    else:\n",
    "        # create new values array\n",
    "        new_values = []\n",
    "        new_values.append(values)\n",
    "        order_food_dict[key] = new_values\n",
    "    \n",
    "   \n",
    "    pass"
   ]
  },
  {
   "cell_type": "code",
   "execution_count": 65,
   "metadata": {},
   "outputs": [
    {
     "name": "stdout",
     "output_type": "stream",
     "text": [
      "200000000.0\n",
      "200199695.0\n",
      "200921635.0\n",
      "203011533.0\n",
      "203051353.0\n"
     ]
    }
   ],
   "source": [
    "for (k, v) in order_food_dict.items():\n",
    "    print(k)\n",
    "    cus_order = order_food_dict.get(k)"
   ]
  },
  {
   "cell_type": "code",
   "execution_count": 52,
   "metadata": {},
   "outputs": [],
   "source": [
    "customer_orders = order_food_dict.get(200000000.0)"
   ]
  },
  {
   "cell_type": "code",
   "execution_count": 53,
   "metadata": {},
   "outputs": [
    {
     "data": {
      "text/plain": [
       "[array(['Fried Rice and Portion of Pork, Rice Dishes, Big',\n",
       "        '2020-11-23  11:09:11 - Morning'], dtype=object),\n",
       " array(['Jollof, Portion, Small', '2020-11-16  10:54:03 - Morning'],\n",
       "       dtype=object),\n",
       " array(['Chicken Delight (No Pork), Classic Pizzas, Small',\n",
       "        '2020-11-16  21:41:19 - Evening'], dtype=object),\n",
       " array([\"Meateater, People's Favourites, Small\",\n",
       "        '2020-11-17  11:21:49 - Morning'], dtype=object),\n",
       " array(['Opana, Red Sauce Pizzas, Small', '2020-11-17  12:51:10 - Morning'],\n",
       "       dtype=object),\n",
       " array(['Lovers Rock (No Pork), Classic Pizzas, Small',\n",
       "        '2020-11-18  13:21:22 - Afternoon'], dtype=object)]"
      ]
     },
     "execution_count": 53,
     "metadata": {},
     "output_type": "execute_result"
    }
   ],
   "source": [
    "customer_orders"
   ]
  },
  {
   "cell_type": "code",
   "execution_count": 54,
   "metadata": {},
   "outputs": [],
   "source": [
    "WINDOW_SIZE = 1\n",
    "ORDER_SIZE = 3\n",
    "\n",
    "dummy_data = np.asarray(customer_orders)\n",
    "new_dummy_data = []\n",
    "for j in range(len(dummy_data)):\n",
    "    curr = dummy_data[j]\n",
    "    \n",
    "    \n",
    "    if j + 1 < len(dummy_data):\n",
    "        curr = np.append(curr , dummy_data[j+1][1])\n",
    "        pass\n",
    "    else:\n",
    "        curr = np.append(curr ,\"FUT\")\n",
    "  \n",
    "    new_dummy_data.append(curr)\n",
    "    \n",
    "        \n",
    "    "
   ]
  },
  {
   "cell_type": "code",
   "execution_count": 55,
   "metadata": {},
   "outputs": [
    {
     "data": {
      "text/plain": [
       "[array(['Fried Rice and Portion of Pork, Rice Dishes, Big',\n",
       "        '2020-11-23  11:09:11 - Morning', '2020-11-16  10:54:03 - Morning'],\n",
       "       dtype=object),\n",
       " array(['Jollof, Portion, Small', '2020-11-16  10:54:03 - Morning',\n",
       "        '2020-11-16  21:41:19 - Evening'], dtype=object),\n",
       " array(['Chicken Delight (No Pork), Classic Pizzas, Small',\n",
       "        '2020-11-16  21:41:19 - Evening', '2020-11-17  11:21:49 - Morning'],\n",
       "       dtype=object),\n",
       " array([\"Meateater, People's Favourites, Small\",\n",
       "        '2020-11-17  11:21:49 - Morning', '2020-11-17  12:51:10 - Morning'],\n",
       "       dtype=object),\n",
       " array(['Opana, Red Sauce Pizzas, Small', '2020-11-17  12:51:10 - Morning',\n",
       "        '2020-11-18  13:21:22 - Afternoon'], dtype=object),\n",
       " array(['Lovers Rock (No Pork), Classic Pizzas, Small',\n",
       "        '2020-11-18  13:21:22 - Afternoon', 'FUT'], dtype=object)]"
      ]
     },
     "execution_count": 55,
     "metadata": {},
     "output_type": "execute_result"
    }
   ],
   "source": [
    "new_dummy_data"
   ]
  },
  {
   "cell_type": "code",
   "execution_count": 56,
   "metadata": {},
   "outputs": [
    {
     "name": "stdout",
     "output_type": "stream",
     "text": [
      "Inputs -> [array(['Fried Rice and Portion of Pork, Rice Dishes, Big',\n",
      "       '2020-11-23  11:09:11 - Morning', '2020-11-16  10:54:03 - Morning'],\n",
      "      dtype=object), array(['Jollof, Portion, Small', '2020-11-16  10:54:03 - Morning',\n",
      "       '2020-11-16  21:41:19 - Evening'], dtype=object), array(['Chicken Delight (No Pork), Classic Pizzas, Small',\n",
      "       '2020-11-16  21:41:19 - Evening', '2020-11-17  11:21:49 - Morning'],\n",
      "      dtype=object)] ::::::: Output -> Meateater, People's Favourites, Small \n",
      "\n",
      "\n",
      "Inputs -> [array(['Jollof, Portion, Small', '2020-11-16  10:54:03 - Morning',\n",
      "       '2020-11-16  21:41:19 - Evening'], dtype=object), array(['Chicken Delight (No Pork), Classic Pizzas, Small',\n",
      "       '2020-11-16  21:41:19 - Evening', '2020-11-17  11:21:49 - Morning'],\n",
      "      dtype=object), array([\"Meateater, People's Favourites, Small\",\n",
      "       '2020-11-17  11:21:49 - Morning', '2020-11-17  12:51:10 - Morning'],\n",
      "      dtype=object)] ::::::: Output -> Opana, Red Sauce Pizzas, Small \n",
      "\n",
      "\n",
      "Inputs -> [array(['Chicken Delight (No Pork), Classic Pizzas, Small',\n",
      "       '2020-11-16  21:41:19 - Evening', '2020-11-17  11:21:49 - Morning'],\n",
      "      dtype=object), array([\"Meateater, People's Favourites, Small\",\n",
      "       '2020-11-17  11:21:49 - Morning', '2020-11-17  12:51:10 - Morning'],\n",
      "      dtype=object), array(['Opana, Red Sauce Pizzas, Small', '2020-11-17  12:51:10 - Morning',\n",
      "       '2020-11-18  13:21:22 - Afternoon'], dtype=object)] ::::::: Output -> Lovers Rock (No Pork), Classic Pizzas, Small \n",
      "\n",
      "\n"
     ]
    }
   ],
   "source": [
    "for i in range(0, len(new_dummy_data)):\n",
    "    if i + ORDER_SIZE < len(new_dummy_data):\n",
    "        print(f\"Inputs -> {new_dummy_data[i : i+ORDER_SIZE]} ::::::: Output -> {new_dummy_data[i+ORDER_SIZE][0]} \\n\\n\")"
   ]
  },
  {
   "cell_type": "code",
   "execution_count": null,
   "metadata": {},
   "outputs": [],
   "source": [
    "[[1, 1, 3], [2, 3. 2]] => "
   ]
  },
  {
   "cell_type": "code",
   "execution_count": null,
   "metadata": {},
   "outputs": [],
   "source": [
    "1 = morning, 2 = aft, 3 = evening\n",
    "jollof = 1, meateater = 2, friedrice = 3"
   ]
  },
  {
   "cell_type": "code",
   "execution_count": null,
   "metadata": {},
   "outputs": [],
   "source": [
    "[1, 1]"
   ]
  },
  {
   "cell_type": "code",
   "execution_count": null,
   "metadata": {},
   "outputs": [],
   "source": []
  },
  {
   "cell_type": "code",
   "execution_count": null,
   "metadata": {},
   "outputs": [],
   "source": []
  },
  {
   "cell_type": "code",
   "execution_count": null,
   "metadata": {},
   "outputs": [],
   "source": []
  },
  {
   "cell_type": "code",
   "execution_count": null,
   "metadata": {},
   "outputs": [],
   "source": []
  },
  {
   "cell_type": "code",
   "execution_count": null,
   "metadata": {},
   "outputs": [],
   "source": []
  },
  {
   "cell_type": "code",
   "execution_count": null,
   "metadata": {},
   "outputs": [],
   "source": []
  },
  {
   "cell_type": "code",
   "execution_count": null,
   "metadata": {},
   "outputs": [],
   "source": []
  }
 ],
 "metadata": {
  "kernelspec": {
   "display_name": "Python 3",
   "language": "python",
   "name": "python3"
  },
  "language_info": {
   "codemirror_mode": {
    "name": "ipython",
    "version": 3
   },
   "file_extension": ".py",
   "mimetype": "text/x-python",
   "name": "python",
   "nbconvert_exporter": "python",
   "pygments_lexer": "ipython3",
   "version": "3.8.5"
  }
 },
 "nbformat": 4,
 "nbformat_minor": 4
}
