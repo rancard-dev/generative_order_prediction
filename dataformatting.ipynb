{
 "cells": [
  {
   "cell_type": "code",
   "execution_count": 136,
   "metadata": {},
   "outputs": [],
   "source": [
    "import pandas as pd\n",
    "import numpy as np\n",
    "import tensorflow as tf\n",
    "from tensorflow import keras"
   ]
  },
  {
   "cell_type": "code",
   "execution_count": 100,
   "metadata": {},
   "outputs": [],
   "source": [
    "df = pd.read_csv(\"CSV_Data_For_3.csv\")"
   ]
  },
  {
   "cell_type": "code",
   "execution_count": 101,
   "metadata": {},
   "outputs": [
    {
     "data": {
      "text/html": [
       "<div>\n",
       "<style scoped>\n",
       "    .dataframe tbody tr th:only-of-type {\n",
       "        vertical-align: middle;\n",
       "    }\n",
       "\n",
       "    .dataframe tbody tr th {\n",
       "        vertical-align: top;\n",
       "    }\n",
       "\n",
       "    .dataframe thead th {\n",
       "        text-align: right;\n",
       "    }\n",
       "</style>\n",
       "<table border=\"1\" class=\"dataframe\">\n",
       "  <thead>\n",
       "    <tr style=\"text-align: right;\">\n",
       "      <th></th>\n",
       "      <th>UserID</th>\n",
       "      <th>Order</th>\n",
       "      <th>Time</th>\n",
       "    </tr>\n",
       "  </thead>\n",
       "  <tbody>\n",
       "    <tr>\n",
       "      <th>0</th>\n",
       "      <td>200000000.0</td>\n",
       "      <td>[0,1,0]</td>\n",
       "      <td>[0,0,1]</td>\n",
       "    </tr>\n",
       "    <tr>\n",
       "      <th>1</th>\n",
       "      <td>200000000.0</td>\n",
       "      <td>[0,1,0]</td>\n",
       "      <td>[0,0,1]</td>\n",
       "    </tr>\n",
       "    <tr>\n",
       "      <th>2</th>\n",
       "      <td>200000000.0</td>\n",
       "      <td>[1,0,0]</td>\n",
       "      <td>[0,1,0]</td>\n",
       "    </tr>\n",
       "    <tr>\n",
       "      <th>3</th>\n",
       "      <td>200000000.0</td>\n",
       "      <td>[1,0,0]</td>\n",
       "      <td>[0,0,1]</td>\n",
       "    </tr>\n",
       "    <tr>\n",
       "      <th>4</th>\n",
       "      <td>200000000.0</td>\n",
       "      <td>[1,0,0]</td>\n",
       "      <td>[0,0,1]</td>\n",
       "    </tr>\n",
       "    <tr>\n",
       "      <th>5</th>\n",
       "      <td>200000000.0</td>\n",
       "      <td>[1,0,0]</td>\n",
       "      <td>[1,0,0]</td>\n",
       "    </tr>\n",
       "    <tr>\n",
       "      <th>6</th>\n",
       "      <td>200199695.0</td>\n",
       "      <td>[1,0,0]</td>\n",
       "      <td>[0,1,0]</td>\n",
       "    </tr>\n",
       "    <tr>\n",
       "      <th>7</th>\n",
       "      <td>200921635.0</td>\n",
       "      <td>[0,1,0]</td>\n",
       "      <td>[0,1,0]</td>\n",
       "    </tr>\n",
       "    <tr>\n",
       "      <th>8</th>\n",
       "      <td>203011533.0</td>\n",
       "      <td>[1,0,0]</td>\n",
       "      <td>[0,0,1]</td>\n",
       "    </tr>\n",
       "    <tr>\n",
       "      <th>9</th>\n",
       "      <td>203051353.0</td>\n",
       "      <td>[0,1,0]</td>\n",
       "      <td>[0,0,1]</td>\n",
       "    </tr>\n",
       "  </tbody>\n",
       "</table>\n",
       "</div>"
      ],
      "text/plain": [
       "        UserID    Order     Time\n",
       "0  200000000.0  [0,1,0]  [0,0,1]\n",
       "1  200000000.0  [0,1,0]  [0,0,1]\n",
       "2  200000000.0  [1,0,0]  [0,1,0]\n",
       "3  200000000.0  [1,0,0]  [0,0,1]\n",
       "4  200000000.0  [1,0,0]  [0,0,1]\n",
       "5  200000000.0  [1,0,0]  [1,0,0]\n",
       "6  200199695.0  [1,0,0]  [0,1,0]\n",
       "7  200921635.0  [0,1,0]  [0,1,0]\n",
       "8  203011533.0  [1,0,0]  [0,0,1]\n",
       "9  203051353.0  [0,1,0]  [0,0,1]"
      ]
     },
     "execution_count": 101,
     "metadata": {},
     "output_type": "execute_result"
    }
   ],
   "source": [
    "df.head(10)"
   ]
  },
  {
   "cell_type": "code",
   "execution_count": 36,
   "metadata": {},
   "outputs": [
    {
     "data": {
      "text/html": [
       "<div>\n",
       "<style scoped>\n",
       "    .dataframe tbody tr th:only-of-type {\n",
       "        vertical-align: middle;\n",
       "    }\n",
       "\n",
       "    .dataframe tbody tr th {\n",
       "        vertical-align: top;\n",
       "    }\n",
       "\n",
       "    .dataframe thead th {\n",
       "        text-align: right;\n",
       "    }\n",
       "</style>\n",
       "<table border=\"1\" class=\"dataframe\">\n",
       "  <thead>\n",
       "    <tr style=\"text-align: right;\">\n",
       "      <th></th>\n",
       "      <th>UserID</th>\n",
       "      <th>Order</th>\n",
       "      <th>Time</th>\n",
       "    </tr>\n",
       "  </thead>\n",
       "  <tbody>\n",
       "    <tr>\n",
       "      <th>0</th>\n",
       "      <td>200000000.0</td>\n",
       "      <td>[0,1,0]</td>\n",
       "      <td>[0,0,1]</td>\n",
       "    </tr>\n",
       "    <tr>\n",
       "      <th>1</th>\n",
       "      <td>200000000.0</td>\n",
       "      <td>[0,1,0]</td>\n",
       "      <td>[0,0,1]</td>\n",
       "    </tr>\n",
       "    <tr>\n",
       "      <th>2</th>\n",
       "      <td>200000000.0</td>\n",
       "      <td>[1,0,0]</td>\n",
       "      <td>[0,1,0]</td>\n",
       "    </tr>\n",
       "    <tr>\n",
       "      <th>3</th>\n",
       "      <td>200000000.0</td>\n",
       "      <td>[1,0,0]</td>\n",
       "      <td>[0,0,1]</td>\n",
       "    </tr>\n",
       "    <tr>\n",
       "      <th>4</th>\n",
       "      <td>200000000.0</td>\n",
       "      <td>[1,0,0]</td>\n",
       "      <td>[0,0,1]</td>\n",
       "    </tr>\n",
       "  </tbody>\n",
       "</table>\n",
       "</div>"
      ],
      "text/plain": [
       "        UserID    Order     Time\n",
       "0  200000000.0  [0,1,0]  [0,0,1]\n",
       "1  200000000.0  [0,1,0]  [0,0,1]\n",
       "2  200000000.0  [1,0,0]  [0,1,0]\n",
       "3  200000000.0  [1,0,0]  [0,0,1]\n",
       "4  200000000.0  [1,0,0]  [0,0,1]"
      ]
     },
     "execution_count": 36,
     "metadata": {},
     "output_type": "execute_result"
    }
   ],
   "source": [
    "df.head()"
   ]
  },
  {
   "cell_type": "code",
   "execution_count": 102,
   "metadata": {},
   "outputs": [],
   "source": [
    "numpy_data = df.to_numpy()"
   ]
  },
  {
   "cell_type": "code",
   "execution_count": 103,
   "metadata": {},
   "outputs": [],
   "source": [
    "sample_data = numpy_data[0:10]"
   ]
  },
  {
   "cell_type": "code",
   "execution_count": 104,
   "metadata": {},
   "outputs": [
    {
     "name": "stdout",
     "output_type": "stream",
     "text": [
      "[0 0 1]\n",
      "[0 0 1]\n",
      "[0 1 0]\n",
      "[0 0 1]\n",
      "[0 0 1]\n",
      "[1 0 0]\n",
      "[0 1 0]\n",
      "[0 1 0]\n",
      "[0 0 1]\n",
      "[0 0 1]\n"
     ]
    }
   ],
   "source": [
    "for val in sample_data:\n",
    "    val[1] = np.array(eval(val[1]))\n",
    "    val[2] = np.array(eval(val[2]))\n",
    "    print(val[2])"
   ]
  },
  {
   "cell_type": "code",
   "execution_count": 105,
   "metadata": {},
   "outputs": [],
   "source": [
    " # order_food_dict = {uniq: [[order, time], [order, time],   [order, time], [order, time]],   uniq2: [[order, time], [order, time],   [order, time], [order, time]]}\n",
    "\n",
    "order_food_dict = {}\n",
    "for sample in sample_data:\n",
    "    #print(f\"Key - {sample[0]}     Value - {' '.join([a for a in sample[1].split()[0:-1]])} {sample[2]}\")\n",
    "    #print(\"\\n\")\n",
    "    key = sample[0]\n",
    "    values = sample[1:]\n",
    "    # check if the key is in the dictionary\n",
    "    if order_food_dict.get(key) is not None:\n",
    "         #   - get the value for that key\n",
    "        existing_values = order_food_dict.get(key)\n",
    "        # append new value to existing values\n",
    "        existing_values.append(values)\n",
    "        order_food_dict[key] = existing_values\n",
    "        pass\n",
    "    else:\n",
    "        # create new values array\n",
    "        new_values = []\n",
    "        new_values.append(values)\n",
    "        order_food_dict[key] = new_values\n",
    "    \n",
    "   \n",
    "    pass"
   ]
  },
  {
   "cell_type": "code",
   "execution_count": 182,
   "metadata": {},
   "outputs": [],
   "source": [
    "WINDOW_SIZE = 1\n",
    "ORDER_SIZE = 3\n",
    "\n",
    "\n",
    "new_dummy_data = []\n",
    "\n",
    "for (k, v) in order_food_dict.items():\n",
    "    customer_orders = order_food_dict.get(k)\n",
    "    dummy_data = np.asarray(customer_orders)\n",
    "    for j in range(len(dummy_data)):\n",
    "        curr = list(dummy_data[j])\n",
    "        if j + 1 < len(dummy_data):\n",
    "            curr.append(dummy_data[j+1][1])\n",
    "            pass\n",
    "        else:\n",
    "            curr.append([0,0,0])\n",
    "\n",
    "        new_dummy_data.append(curr)\n",
    "    "
   ]
  },
  {
   "cell_type": "code",
   "execution_count": null,
   "metadata": {},
   "outputs": [],
   "source": []
  },
  {
   "cell_type": "code",
   "execution_count": 52,
   "metadata": {},
   "outputs": [],
   "source": [
    "# customer_orders = order_food_dict.get(200000000.0)"
   ]
  },
  {
   "cell_type": "code",
   "execution_count": 13,
   "metadata": {},
   "outputs": [],
   "source": [
    "# customer_orders"
   ]
  },
  {
   "cell_type": "code",
   "execution_count": 183,
   "metadata": {},
   "outputs": [],
   "source": [
    "# new_dummy_data\n",
    "x = []\n",
    "y = []"
   ]
  },
  {
   "cell_type": "code",
   "execution_count": 184,
   "metadata": {},
   "outputs": [],
   "source": [
    "for i in range(0, len(new_dummy_data)):\n",
    "    if i + ORDER_SIZE < len(new_dummy_data):\n",
    "        x.append(new_dummy_data[i : i+ORDER_SIZE])\n",
    "        y.append(new_dummy_data[i+ORDER_SIZE][0])\n",
    "#         print(f\"Inputs -> {} ::::::: Output -> {new_dummy_data[i+ORDER_SIZE][0]} \\n\\n\")"
   ]
  },
  {
   "cell_type": "code",
   "execution_count": 185,
   "metadata": {},
   "outputs": [],
   "source": [
    "x = np.array(x)\n",
    "y = np.array(y)"
   ]
  },
  {
   "cell_type": "code",
   "execution_count": null,
   "metadata": {},
   "outputs": [],
   "source": []
  },
  {
   "cell_type": "code",
   "execution_count": null,
   "metadata": {},
   "outputs": [],
   "source": []
  },
  {
   "cell_type": "code",
   "execution_count": 231,
   "metadata": {},
   "outputs": [],
   "source": [
    "model = keras.Sequential()\n",
    "model.add(keras.layers.Dense(64, input_shape=(3,3,3)))\n",
    "model.add(keras.layers.Reshape((3, 64 * 3)))\n",
    "model.add(tf.keras.layers.LSTM(4, return_sequences=True))\n",
    "model.add(tf.keras.layers.LSTM(4))\n",
    "model.add(tf.keras.layers.Dense(3))\n",
    "model.add(tf.keras.layers.Dropout(0.2))\n",
    "model.add(keras.layers.Activation('softmax'))"
   ]
  },
  {
   "cell_type": "code",
   "execution_count": 232,
   "metadata": {},
   "outputs": [],
   "source": [
    "model.compile(loss='categorical_crossentropy', optimizer='adam', metrics=[\"acc\"])"
   ]
  },
  {
   "cell_type": "code",
   "execution_count": null,
   "metadata": {},
   "outputs": [],
   "source": []
  },
  {
   "cell_type": "code",
   "execution_count": 233,
   "metadata": {},
   "outputs": [
    {
     "name": "stdout",
     "output_type": "stream",
     "text": [
      "Model: \"sequential_28\"\n",
      "_________________________________________________________________\n",
      "Layer (type)                 Output Shape              Param #   \n",
      "=================================================================\n",
      "dense_24 (Dense)             (None, 3, 3, 64)          256       \n",
      "_________________________________________________________________\n",
      "reshape_7 (Reshape)          (None, 3, 192)            0         \n",
      "_________________________________________________________________\n",
      "lstm_41 (LSTM)               (None, 3, 4)              3152      \n",
      "_________________________________________________________________\n",
      "lstm_42 (LSTM)               (None, 4)                 144       \n",
      "_________________________________________________________________\n",
      "dense_25 (Dense)             (None, 3)                 15        \n",
      "_________________________________________________________________\n",
      "dropout (Dropout)            (None, 3)                 0         \n",
      "_________________________________________________________________\n",
      "activation_4 (Activation)    (None, 3)                 0         \n",
      "=================================================================\n",
      "Total params: 3,567\n",
      "Trainable params: 3,567\n",
      "Non-trainable params: 0\n",
      "_________________________________________________________________\n"
     ]
    }
   ],
   "source": [
    "model.summary()"
   ]
  },
  {
   "cell_type": "code",
   "execution_count": 168,
   "metadata": {},
   "outputs": [
    {
     "data": {
      "text/plain": [
       "(7, 3)"
      ]
     },
     "execution_count": 168,
     "metadata": {},
     "output_type": "execute_result"
    }
   ],
   "source": [
    "np.array(y).shape"
   ]
  },
  {
   "cell_type": "code",
   "execution_count": 234,
   "metadata": {},
   "outputs": [
    {
     "name": "stdout",
     "output_type": "stream",
     "text": [
      "Epoch 1/10\n",
      "3/3 [==============================] - 3s 288ms/step - loss: 1.0541 - acc: 1.0000 - val_loss: 1.0945 - val_acc: 0.5000\n",
      "Epoch 2/10\n",
      "3/3 [==============================] - 0s 20ms/step - loss: 1.0479 - acc: 1.0000 - val_loss: 1.0878 - val_acc: 0.5000\n",
      "Epoch 3/10\n",
      "3/3 [==============================] - 0s 17ms/step - loss: 1.0238 - acc: 0.8375 - val_loss: 1.0821 - val_acc: 0.5000\n",
      "Epoch 4/10\n",
      "3/3 [==============================] - 0s 19ms/step - loss: 0.9595 - acc: 0.7125 - val_loss: 1.0766 - val_acc: 0.5000\n",
      "Epoch 5/10\n",
      "3/3 [==============================] - 0s 20ms/step - loss: 0.9476 - acc: 0.7125 - val_loss: 1.0715 - val_acc: 0.5000\n",
      "Epoch 6/10\n",
      "3/3 [==============================] - 0s 15ms/step - loss: 0.9339 - acc: 0.9000 - val_loss: 1.0669 - val_acc: 0.5000\n",
      "Epoch 7/10\n",
      "3/3 [==============================] - 0s 20ms/step - loss: 0.8355 - acc: 0.9000 - val_loss: 1.0628 - val_acc: 0.5000\n",
      "Epoch 8/10\n",
      "3/3 [==============================] - 0s 22ms/step - loss: 0.7633 - acc: 0.8375 - val_loss: 1.0593 - val_acc: 0.5000\n",
      "Epoch 9/10\n",
      "3/3 [==============================] - 0s 27ms/step - loss: 0.7784 - acc: 0.8375 - val_loss: 1.0565 - val_acc: 0.5000\n",
      "Epoch 10/10\n",
      "3/3 [==============================] - 0s 19ms/step - loss: 0.7181 - acc: 0.9000 - val_loss: 1.0546 - val_acc: 0.5000\n"
     ]
    },
    {
     "data": {
      "text/plain": [
       "<tensorflow.python.keras.callbacks.History at 0x7eff0a59c220>"
      ]
     },
     "execution_count": 234,
     "metadata": {},
     "output_type": "execute_result"
    }
   ],
   "source": [
    "model.fit(x, y, epochs=10, batch_size=2, validation_split=0.2) "
   ]
  },
  {
   "cell_type": "code",
   "execution_count": 235,
   "metadata": {},
   "outputs": [],
   "source": [
    "model.save(\"model.h5\")"
   ]
  },
  {
   "cell_type": "code",
   "execution_count": null,
   "metadata": {},
   "outputs": [],
   "source": [
    "model2 = keras"
   ]
  }
 ],
 "metadata": {
  "kernelspec": {
   "display_name": "Python 3",
   "language": "python",
   "name": "python3"
  },
  "language_info": {
   "codemirror_mode": {
    "name": "ipython",
    "version": 3
   },
   "file_extension": ".py",
   "mimetype": "text/x-python",
   "name": "python",
   "nbconvert_exporter": "python",
   "pygments_lexer": "ipython3",
   "version": "3.8.5"
  }
 },
 "nbformat": 4,
 "nbformat_minor": 4
}
