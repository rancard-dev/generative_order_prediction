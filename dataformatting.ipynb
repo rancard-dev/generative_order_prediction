{
 "cells": [
  {
   "cell_type": "code",
   "execution_count": 1,
   "metadata": {},
   "outputs": [],
   "source": [
    "import pandas as pd"
   ]
  },
  {
   "cell_type": "code",
   "execution_count": 4,
   "metadata": {},
   "outputs": [],
   "source": [
    "df = pd.read_csv(\"user_orders.csv\")"
   ]
  },
  {
   "cell_type": "code",
   "execution_count": 10,
   "metadata": {},
   "outputs": [
    {
     "data": {
      "text/html": [
       "<div>\n",
       "<style scoped>\n",
       "    .dataframe tbody tr th:only-of-type {\n",
       "        vertical-align: middle;\n",
       "    }\n",
       "\n",
       "    .dataframe tbody tr th {\n",
       "        vertical-align: top;\n",
       "    }\n",
       "\n",
       "    .dataframe thead th {\n",
       "        text-align: right;\n",
       "    }\n",
       "</style>\n",
       "<table border=\"1\" class=\"dataframe\">\n",
       "  <thead>\n",
       "    <tr style=\"text-align: right;\">\n",
       "      <th></th>\n",
       "      <th>User Number and FbMessengerID</th>\n",
       "      <th>Order Placed</th>\n",
       "      <th>Order_Time</th>\n",
       "    </tr>\n",
       "  </thead>\n",
       "  <tbody>\n",
       "    <tr>\n",
       "      <th>0</th>\n",
       "      <td>200000000.0</td>\n",
       "      <td>Fried Rice and Portion of Pork, Fried Rice and...</td>\n",
       "      <td>2020-11-23  11:09:11 - Morning</td>\n",
       "    </tr>\n",
       "    <tr>\n",
       "      <th>1</th>\n",
       "      <td>200000000.0</td>\n",
       "      <td>Jollof, Jollof, Portion, Small</td>\n",
       "      <td>2020-11-16  10:54:03 - Morning</td>\n",
       "    </tr>\n",
       "    <tr>\n",
       "      <th>2</th>\n",
       "      <td>200000000.0</td>\n",
       "      <td>Chicken Delight (No Pork), Tomato sauce, chees...</td>\n",
       "      <td>2020-11-16  21:41:19 - Evening</td>\n",
       "    </tr>\n",
       "    <tr>\n",
       "      <th>3</th>\n",
       "      <td>200000000.0</td>\n",
       "      <td>Meateater, Tomatoes sauce, cheese, chorizo, ha...</td>\n",
       "      <td>2020-11-17  11:21:49 - Morning</td>\n",
       "    </tr>\n",
       "    <tr>\n",
       "      <th>4</th>\n",
       "      <td>200000000.0</td>\n",
       "      <td>Opana, Red sauce, cheese, chorizo, sausage, ha...</td>\n",
       "      <td>2020-11-17  12:51:10 - Morning</td>\n",
       "    </tr>\n",
       "    <tr>\n",
       "      <th>5</th>\n",
       "      <td>200000000.0</td>\n",
       "      <td>Lovers Rock (No Pork), Tomato sauce, cheese, b...</td>\n",
       "      <td>2020-11-18  13:21:22 - Afternoon</td>\n",
       "    </tr>\n",
       "    <tr>\n",
       "      <th>6</th>\n",
       "      <td>200199695.0</td>\n",
       "      <td>Fully Loaded, BBQ steak, spicy beef sausage, b...</td>\n",
       "      <td>2021-01-09  22:01:18 - Evening</td>\n",
       "    </tr>\n",
       "    <tr>\n",
       "      <th>7</th>\n",
       "      <td>200921635.0</td>\n",
       "      <td>Peri Peri chicken, Spicy peri, peri chicken, c...</td>\n",
       "      <td>2020-12-25  20:25:42 - Evening</td>\n",
       "    </tr>\n",
       "    <tr>\n",
       "      <th>8</th>\n",
       "      <td>203011533.0</td>\n",
       "      <td>Beef Sausage, Buy 1 get 1 free pizza from this...</td>\n",
       "      <td>2021-02-16  12:50:16 - Morning</td>\n",
       "    </tr>\n",
       "    <tr>\n",
       "      <th>9</th>\n",
       "      <td>203051353.0</td>\n",
       "      <td>Peri Peri chicken, Spicy peri, peri chicken, c...</td>\n",
       "      <td>2021-01-15  11:57:06 - Morning</td>\n",
       "    </tr>\n",
       "  </tbody>\n",
       "</table>\n",
       "</div>"
      ],
      "text/plain": [
       "   User Number and FbMessengerID  \\\n",
       "0                    200000000.0   \n",
       "1                    200000000.0   \n",
       "2                    200000000.0   \n",
       "3                    200000000.0   \n",
       "4                    200000000.0   \n",
       "5                    200000000.0   \n",
       "6                    200199695.0   \n",
       "7                    200921635.0   \n",
       "8                    203011533.0   \n",
       "9                    203051353.0   \n",
       "\n",
       "                                        Order Placed  \\\n",
       "0  Fried Rice and Portion of Pork, Fried Rice and...   \n",
       "1                     Jollof, Jollof, Portion, Small   \n",
       "2  Chicken Delight (No Pork), Tomato sauce, chees...   \n",
       "3  Meateater, Tomatoes sauce, cheese, chorizo, ha...   \n",
       "4  Opana, Red sauce, cheese, chorizo, sausage, ha...   \n",
       "5  Lovers Rock (No Pork), Tomato sauce, cheese, b...   \n",
       "6  Fully Loaded, BBQ steak, spicy beef sausage, b...   \n",
       "7  Peri Peri chicken, Spicy peri, peri chicken, c...   \n",
       "8  Beef Sausage, Buy 1 get 1 free pizza from this...   \n",
       "9  Peri Peri chicken, Spicy peri, peri chicken, c...   \n",
       "\n",
       "                         Order_Time  \n",
       "0    2020-11-23  11:09:11 - Morning  \n",
       "1    2020-11-16  10:54:03 - Morning  \n",
       "2    2020-11-16  21:41:19 - Evening  \n",
       "3    2020-11-17  11:21:49 - Morning  \n",
       "4    2020-11-17  12:51:10 - Morning  \n",
       "5  2020-11-18  13:21:22 - Afternoon  \n",
       "6    2021-01-09  22:01:18 - Evening  \n",
       "7    2020-12-25  20:25:42 - Evening  \n",
       "8    2021-02-16  12:50:16 - Morning  \n",
       "9    2021-01-15  11:57:06 - Morning  "
      ]
     },
     "execution_count": 10,
     "metadata": {},
     "output_type": "execute_result"
    }
   ],
   "source": [
    "df.head(10)"
   ]
  },
  {
   "cell_type": "code",
   "execution_count": 15,
   "metadata": {},
   "outputs": [],
   "source": [
    "numpy_data = df.to_numpy()"
   ]
  },
  {
   "cell_type": "code",
   "execution_count": 30,
   "metadata": {},
   "outputs": [],
   "source": [
    "sample_data = numpy_data[0:10]"
   ]
  },
  {
   "cell_type": "code",
   "execution_count": 54,
   "metadata": {},
   "outputs": [],
   "source": [
    " # order_food_dict = {uniq: [[order, time], [order, time],   [order, time], [order, time]],   uniq2: [[order, time], [order, time],   [order, time], [order, time]]}\n",
    "\n",
    "order_food_dict = {}\n",
    "for sample in sample_data:\n",
    "    #print(f\"Key - {sample[0]}     Value - {' '.join([a for a in sample[1].split()[0:-1]])} {sample[2]}\")\n",
    "    #print(\"\\n\")\n",
    "    key = sample[0]\n",
    "    values = sample[1:]\n",
    "    # check if the key is in the dictionary\n",
    "    if order_food_dict.get(key) is not None:\n",
    "         #   - get the value for that key\n",
    "        existing_values = order_food_dict.get(key)\n",
    "        # append new value to existing values\n",
    "        existing_values.append(values)\n",
    "        order_food_dict[key] = existing_values\n",
    "        pass\n",
    "    else:\n",
    "        # create new values array\n",
    "        new_values = []\n",
    "        new_values.append(values)\n",
    "        order_food_dict[key] = new_values\n",
    "    \n",
    "   \n",
    "    pass"
   ]
  },
  {
   "cell_type": "code",
   "execution_count": 64,
   "metadata": {},
   "outputs": [],
   "source": [
    "customer_orders = order_food_dict.get(200000000.0)"
   ]
  },
  {
   "cell_type": "code",
   "execution_count": 67,
   "metadata": {},
   "outputs": [
    {
     "data": {
      "text/plain": [
       "6"
      ]
     },
     "execution_count": 67,
     "metadata": {},
     "output_type": "execute_result"
    }
   ],
   "source": [
    "len(customer_orders)"
   ]
  },
  {
   "cell_type": "code",
   "execution_count": 90,
   "metadata": {},
   "outputs": [],
   "source": [
    "WINDOW_SIZE = 1\n",
    "ORDER_SIZE = 3\n",
    "\n",
    "dummy_data = [[\"Order 1\", \"Time 1\"], [\"Order 2\", \"Time 2\"], [\"Order 3\", \"Time 3\"], [\"Order 4\", \"Time 4\"], [\"Order 5\", \"Time 5\"]]\n",
    "new_dummy_data = []\n",
    "for j in range(len(dummy_data)):\n",
    "    curr = dummy_data[j]\n",
    "    if j + 1 < len(dummy_data):\n",
    "        curr.append(dummy_data[j+1][1])\n",
    "        pass\n",
    "    else:\n",
    "        curr.append(\"FUT\")    \n",
    "    new_dummy_data.append(curr)\n",
    "    \n",
    "        \n",
    "    "
   ]
  },
  {
   "cell_type": "code",
   "execution_count": 91,
   "metadata": {},
   "outputs": [
    {
     "data": {
      "text/plain": [
       "[['Order 1', 'Time 1', 'Time 2'],\n",
       " ['Order 2', 'Time 2', 'Time 3'],\n",
       " ['Order 3', 'Time 3', 'Time 4'],\n",
       " ['Order 4', 'Time 4', 'Time 5'],\n",
       " ['Order 5', 'Time 5', 'FUT']]"
      ]
     },
     "execution_count": 91,
     "metadata": {},
     "output_type": "execute_result"
    }
   ],
   "source": [
    "new_dummy_data"
   ]
  },
  {
   "cell_type": "code",
   "execution_count": 92,
   "metadata": {},
   "outputs": [
    {
     "name": "stdout",
     "output_type": "stream",
     "text": [
      "Inputs -> [['Order 1', 'Time 1', 'Time 2'], ['Order 2', 'Time 2', 'Time 3'], ['Order 3', 'Time 3', 'Time 4']] ::::::: Output -> Order 4\n",
      "Inputs -> [['Order 2', 'Time 2', 'Time 3'], ['Order 3', 'Time 3', 'Time 4'], ['Order 4', 'Time 4', 'Time 5']] ::::::: Output -> Order 5\n"
     ]
    }
   ],
   "source": [
    "for i in range(0, len(new_dummy_data)):\n",
    "    if i + ORDER_SIZE < len(new_dummy_data):\n",
    "        print(f\"Inputs -> {new_dummy_data[i : i+ORDER_SIZE]} ::::::: Output -> {new_dummy_data[i+ORDER_SIZE][0]}\")"
   ]
  },
  {
   "cell_type": "code",
   "execution_count": null,
   "metadata": {},
   "outputs": [],
   "source": []
  }
 ],
 "metadata": {
  "kernelspec": {
   "display_name": "Python 3",
   "language": "python",
   "name": "python3"
  },
  "language_info": {
   "codemirror_mode": {
    "name": "ipython",
    "version": 3
   },
   "file_extension": ".py",
   "mimetype": "text/x-python",
   "name": "python",
   "nbconvert_exporter": "python",
   "pygments_lexer": "ipython3",
   "version": "3.8.5"
  }
 },
 "nbformat": 4,
 "nbformat_minor": 4
}
