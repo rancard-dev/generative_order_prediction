{
 "cells": [
  {
   "cell_type": "code",
   "execution_count": 1,
   "id": "inclusive-washington",
   "metadata": {},
   "outputs": [],
   "source": [
    "import pandas as pd\n",
    "import numpy as np\n",
    "import tensorflow as tf\n",
    "from tensorflow import keras\n",
    "from tensorflow.keras.models import Sequential\n",
    "from tensorflow.keras.layers import Dense,Reshape,LSTM,Dropout,Activation,Bidirectional\n"
   ]
  },
  {
   "cell_type": "code",
   "execution_count": 161,
   "id": "emerging-toolbox",
   "metadata": {},
   "outputs": [],
   "source": [
    "df = pd.read_csv(\"CSV_Data_For_3.csv\")"
   ]
  },
  {
   "cell_type": "code",
   "execution_count": 162,
   "id": "unavailable-dominant",
   "metadata": {},
   "outputs": [],
   "source": [
    "numpy_data = df.to_numpy()"
   ]
  },
  {
   "cell_type": "code",
   "execution_count": 163,
   "id": "extra-diana",
   "metadata": {},
   "outputs": [],
   "source": [
    "sample_data = numpy_data[0:-1]\n"
   ]
  },
  {
   "cell_type": "code",
   "execution_count": null,
   "id": "different-parallel",
   "metadata": {},
   "outputs": [],
   "source": [
    "0,0,1 -> 2\n",
    "0,1,2 -> 3\n",
    "1,2,3 -> 4\n",
    "2,3,4 -> 5\n",
    "3,4,5 -> 6"
   ]
  },
  {
   "cell_type": "code",
   "execution_count": 164,
   "id": "emerging-philadelphia",
   "metadata": {},
   "outputs": [],
   "source": [
    "for val in sample_data:\n",
    "    val[1] = np.array(eval(val[1]))\n",
    "    val[2] = np.array(eval(val[2]))"
   ]
  },
  {
   "cell_type": "code",
   "execution_count": 167,
   "id": "472dbe41",
   "metadata": {},
   "outputs": [],
   "source": [
    "result=[]\n",
    "ORDER_SIZE = 3\n",
    "\n",
    "x = []\n",
    "y = []\n",
    "\n",
    "two = np.zeros((2,2,3),dtype='object')\n",
    "\n",
    "\n",
    "for (k, v) in order_food_dict.items():\n",
    "    customer_orders = order_food_dict.get(k)\n",
    "        \n",
    "    if len(customer_orders) == 1:\n",
    "        pass\n",
    "    \n",
    "    elif len(customer_orders) == 2:\n",
    "        result.extend(two)\n",
    "        result.extend(two)\n",
    "        result.extend(customer_orders)\n",
    "        \n",
    "    elif len(customer_orders) == 3:\n",
    "        result.extend(two)\n",
    "        result.extend(customer_orders)\n",
    "        \n",
    "    else:\n",
    "        result.extend(customer_orders)\n",
    "        \n",
    "for i in range(0, len(result)):\n",
    "    if i + ORDER_SIZE < len(result):\n",
    "        x.append(result[i : i+ORDER_SIZE])\n",
    "        y.append(result[i+ORDER_SIZE][1])\n",
    "        #print(f\"Inputs -> {result[i : i+ORDER_SIZE]} ::::::: Output -> {result[i+ORDER_SIZE][1]} \\n\\n\")\n",
    "        "
   ]
  },
  {
   "cell_type": "code",
   "execution_count": 108,
   "id": "pharmaceutical-northeast",
   "metadata": {},
   "outputs": [],
   "source": [
    " # order_food_dict = {uniq: [[order, time], [order, time],   [order, time], [order, time]],   uniq2: [[order, time], [order, time],   [order, time], [order, time]]}\n",
    "\n",
    "order_food_dict = {}\n",
    "for sample in sample_data:\n",
    "    key = sample[0]\n",
    "    values = sample[1:]\n",
    "    # check if the key is in the dictionary\n",
    "    if order_food_dict.get(key) is not None:\n",
    "         #   - get the value for that key\n",
    "        existing_values = order_food_dict.get(key)\n",
    "        # append new value to existing values\n",
    "        existing_values.append(values)\n",
    "        order_food_dict[key] = existing_values\n",
    "        pass\n",
    "    else:\n",
    "        # create new values array\n",
    "        new_values = []\n",
    "        new_values.append(values)\n",
    "        order_food_dict[key] = new_values\n",
    "    \n",
    "   \n",
    "    pass"
   ]
  },
  {
   "cell_type": "code",
   "execution_count": 109,
   "id": "norman-toolbox",
   "metadata": {},
   "outputs": [],
   "source": [
    "WINDOW_SIZE = 1\n",
    "ORDER_SIZE = 3\n",
    "\n",
    "new_dummy_data = []\n",
    "\n",
    "for (k, v) in order_food_dict.items():\n",
    "    customer_orders = order_food_dict.get(k)\n",
    "    dummy_data = np.asarray(customer_orders)\n",
    "    for j in range(len(dummy_data)):\n",
    "        curr = list(dummy_data[j])\n",
    "        if j + 1 < len(dummy_data):\n",
    "            curr.append(dummy_data[j+1][1])\n",
    "            pass\n",
    "        else:\n",
    "            curr.append([0,0,0])\n",
    "\n",
    "        new_dummy_data.append(curr)\n",
    "    "
   ]
  },
  {
   "cell_type": "code",
   "execution_count": 126,
   "id": "moderate-happiness",
   "metadata": {},
   "outputs": [],
   "source": [
    "# new_dummy_data\n",
    "x = []\n",
    "y = []"
   ]
  },
  {
   "cell_type": "code",
   "execution_count": 111,
   "id": "professional-toyota",
   "metadata": {},
   "outputs": [],
   "source": [
    "for i in range(0, len(new_dummy_data)):\n",
    "    if i + ORDER_SIZE < len(new_dummy_data):\n",
    "        x.append(new_dummy_data[i : i+ORDER_SIZE])\n",
    "        y.append(new_dummy_data[i+ORDER_SIZE][1])\n",
    "        #print(f\"Inputs -> {new_dummy_data[i : i+ORDER_SIZE]} ::::::: Output -> {new_dummy_data[i+ORDER_SIZE][1]} \\n\\n\")"
   ]
  },
  {
   "cell_type": "code",
   "execution_count": 168,
   "id": "physical-leeds",
   "metadata": {},
   "outputs": [
    {
     "ename": "ValueError",
     "evalue": "could not broadcast input array from shape (2,3) into shape (2,)",
     "output_type": "error",
     "traceback": [
      "\u001b[1;31m---------------------------------------------------------------------------\u001b[0m",
      "\u001b[1;31mValueError\u001b[0m                                Traceback (most recent call last)",
      "\u001b[1;32m<ipython-input-168-b6a399276926>\u001b[0m in \u001b[0;36m<module>\u001b[1;34m\u001b[0m\n\u001b[1;32m----> 1\u001b[1;33m \u001b[0mx_train\u001b[0m\u001b[1;33m=\u001b[0m \u001b[0mnp\u001b[0m\u001b[1;33m.\u001b[0m\u001b[0marray\u001b[0m\u001b[1;33m(\u001b[0m\u001b[0mx\u001b[0m\u001b[1;33m,\u001b[0m\u001b[0mdtype\u001b[0m\u001b[1;33m=\u001b[0m\u001b[1;34m'object'\u001b[0m\u001b[1;33m)\u001b[0m\u001b[1;33m\u001b[0m\u001b[1;33m\u001b[0m\u001b[0m\n\u001b[0m\u001b[0;32m      2\u001b[0m \u001b[0my_train\u001b[0m \u001b[1;33m=\u001b[0m \u001b[0mnp\u001b[0m\u001b[1;33m.\u001b[0m\u001b[0marray\u001b[0m\u001b[1;33m(\u001b[0m\u001b[0my\u001b[0m\u001b[1;33m,\u001b[0m\u001b[0mdtype\u001b[0m\u001b[1;33m=\u001b[0m\u001b[1;34m'object'\u001b[0m\u001b[1;33m)\u001b[0m\u001b[1;33m\u001b[0m\u001b[1;33m\u001b[0m\u001b[0m\n",
      "\u001b[1;31mValueError\u001b[0m: could not broadcast input array from shape (2,3) into shape (2,)"
     ]
    }
   ],
   "source": [
    "x_train= np.array(x,dtype='object')\n",
    "y_train = np.array(y,dtype='object')"
   ]
  },
  {
   "cell_type": "code",
   "execution_count": 45,
   "id": "realistic-review",
   "metadata": {},
   "outputs": [],
   "source": [
    "inp_one = keras.layers.Input((ORDER_SIZE,3,3), name=\"Input_One\")\n",
    "inp_two = keras.layers.Input((ORDER_SIZE,3,3), name=\"Input_Two\")\n",
    "\n",
    "input_one = Dense(256, activation = 'relu', name=\"Dense_One\")(inp_one)\n",
    "input_two = Dense(128, activation = 'relu')(inp_two)\n",
    "\n",
    "reshape_one = Reshape((ORDER_SIZE,256*3))(input_one)\n",
    "reshape_two = Reshape((ORDER_SIZE,128*3))(input_two)\n",
    "\n",
    "bi_lstm = Bidirectional(LSTM(50,return_sequences=True,activation='relu',dropout=0.2))(reshape_two)\n",
    "\n",
    "lstm = LSTM(50,return_sequences=True,activation='relu',dropout=0.2)(reshape_one)\n",
    "\n",
    "\n",
    "out = keras.layers.Concatenate()([bi_lstm, lstm])\n",
    "\n",
    "flatten = keras.layers.Flatten()(out)\n",
    "\n",
    "final = Dense(3,activation='sigmoid')(flatten)\n",
    "\n",
    "model = keras.Model(inputs=[inp_one, inp_two], outputs= final)"
   ]
  },
  {
   "cell_type": "code",
   "execution_count": 46,
   "id": "speaking-collect",
   "metadata": {},
   "outputs": [
    {
     "name": "stdout",
     "output_type": "stream",
     "text": [
      "Model: \"functional_3\"\n",
      "__________________________________________________________________________________________________\n",
      "Layer (type)                    Output Shape         Param #     Connected to                     \n",
      "==================================================================================================\n",
      "Input_Two (InputLayer)          [(None, 3, 3, 3)]    0                                            \n",
      "__________________________________________________________________________________________________\n",
      "Input_One (InputLayer)          [(None, 3, 3, 3)]    0                                            \n",
      "__________________________________________________________________________________________________\n",
      "dense_2 (Dense)                 (None, 3, 3, 128)    512         Input_Two[0][0]                  \n",
      "__________________________________________________________________________________________________\n",
      "Dense_One (Dense)               (None, 3, 3, 256)    1024        Input_One[0][0]                  \n",
      "__________________________________________________________________________________________________\n",
      "reshape_3 (Reshape)             (None, 3, 384)       0           dense_2[0][0]                    \n",
      "__________________________________________________________________________________________________\n",
      "reshape_2 (Reshape)             (None, 3, 768)       0           Dense_One[0][0]                  \n",
      "__________________________________________________________________________________________________\n",
      "bidirectional_1 (Bidirectional) (None, 3, 100)       174000      reshape_3[0][0]                  \n",
      "__________________________________________________________________________________________________\n",
      "lstm_3 (LSTM)                   (None, 3, 50)        163800      reshape_2[0][0]                  \n",
      "__________________________________________________________________________________________________\n",
      "concatenate_1 (Concatenate)     (None, 3, 150)       0           bidirectional_1[0][0]            \n",
      "                                                                 lstm_3[0][0]                     \n",
      "__________________________________________________________________________________________________\n",
      "flatten_1 (Flatten)             (None, 450)          0           concatenate_1[0][0]              \n",
      "__________________________________________________________________________________________________\n",
      "dense_3 (Dense)                 (None, 3)            1353        flatten_1[0][0]                  \n",
      "==================================================================================================\n",
      "Total params: 340,689\n",
      "Trainable params: 340,689\n",
      "Non-trainable params: 0\n",
      "__________________________________________________________________________________________________\n"
     ]
    }
   ],
   "source": [
    "model.compile(optimizer='adam',loss='categorical_crossentropy',metrics=['acc'])\n",
    "model.summary()"
   ]
  },
  {
   "cell_type": "code",
   "execution_count": 14,
   "id": "computational-spell",
   "metadata": {},
   "outputs": [],
   "source": [
    "callbacks = [\n",
    "    tf.keras.callbacks.EarlyStopping(patience=20, monitor=\"val_acc\"),\n",
    "    tf.keras.callbacks.ModelCheckpoint(filepath='model.h5'),\n",
    "    tf.keras.callbacks.TensorBoard(log_dir='./logs'),\n",
    "]"
   ]
  },
  {
   "cell_type": "code",
   "execution_count": 47,
   "id": "interesting-pakistan",
   "metadata": {},
   "outputs": [
    {
     "name": "stdout",
     "output_type": "stream",
     "text": [
      "Epoch 1/50\n",
      "  2/131 [..............................] - ETA: 5:54 - loss: 1.0896 - acc: 0.4000WARNING:tensorflow:Callbacks method `on_train_batch_end` is slow compared to the batch time (batch time: 0.0280s vs `on_train_batch_end` time: 5.4709s). Check your callbacks.\n",
      "131/131 [==============================] - 10s 73ms/step - loss: 0.3705 - acc: 0.8200 - val_loss: 0.1457 - val_acc: 0.9289\n",
      "Epoch 2/50\n",
      "131/131 [==============================] - 3s 25ms/step - loss: 0.1151 - acc: 0.9379 - val_loss: 0.1465 - val_acc: 0.9307\n",
      "Epoch 3/50\n",
      "131/131 [==============================] - 3s 24ms/step - loss: 0.1117 - acc: 0.9417 - val_loss: 0.1489 - val_acc: 0.9283\n",
      "Epoch 4/50\n",
      "131/131 [==============================] - 4s 34ms/step - loss: 0.1095 - acc: 0.9411 - val_loss: 0.1508 - val_acc: 0.9105\n",
      "Epoch 5/50\n",
      "131/131 [==============================] - 3s 27ms/step - loss: 0.1101 - acc: 0.9413 - val_loss: 0.1465 - val_acc: 0.9258\n",
      "Epoch 6/50\n",
      "131/131 [==============================] - 3s 25ms/step - loss: 0.1066 - acc: 0.9419 - val_loss: 0.1517 - val_acc: 0.9264\n",
      "Epoch 7/50\n",
      "131/131 [==============================] - 4s 27ms/step - loss: 0.1075 - acc: 0.9411 - val_loss: 0.1489 - val_acc: 0.9148\n",
      "Epoch 8/50\n",
      "131/131 [==============================] - 3s 24ms/step - loss: 0.1064 - acc: 0.9431 - val_loss: 0.1561 - val_acc: 0.9093\n",
      "Epoch 9/50\n",
      "131/131 [==============================] - 3s 25ms/step - loss: 0.1053 - acc: 0.9420 - val_loss: 0.1460 - val_acc: 0.9270\n",
      "Epoch 10/50\n",
      "131/131 [==============================] - 5s 36ms/step - loss: 0.1044 - acc: 0.9442 - val_loss: 0.1406 - val_acc: 0.9221\n",
      "Epoch 11/50\n",
      "131/131 [==============================] - 3s 24ms/step - loss: 0.1042 - acc: 0.9443 - val_loss: 0.1487 - val_acc: 0.9185\n",
      "Epoch 12/50\n",
      "131/131 [==============================] - 3s 24ms/step - loss: 0.1026 - acc: 0.9440 - val_loss: 0.1492 - val_acc: 0.9129\n",
      "Epoch 13/50\n",
      "131/131 [==============================] - 3s 24ms/step - loss: 0.1016 - acc: 0.9473 - val_loss: 0.1583 - val_acc: 0.9105\n",
      "Epoch 14/50\n",
      "131/131 [==============================] - 3s 24ms/step - loss: 0.1028 - acc: 0.9437 - val_loss: 0.1547 - val_acc: 0.9135\n",
      "Epoch 15/50\n",
      "131/131 [==============================] - 3s 24ms/step - loss: 0.1014 - acc: 0.9468 - val_loss: 0.1556 - val_acc: 0.9123\n",
      "Epoch 16/50\n",
      "131/131 [==============================] - 3s 24ms/step - loss: 0.0989 - acc: 0.9491 - val_loss: 0.1544 - val_acc: 0.9221\n",
      "Epoch 17/50\n",
      "131/131 [==============================] - 3s 24ms/step - loss: 0.0985 - acc: 0.9473 - val_loss: 0.1540 - val_acc: 0.9258\n",
      "Epoch 18/50\n",
      "131/131 [==============================] - 3s 24ms/step - loss: 0.0969 - acc: 0.9503 - val_loss: 0.1663 - val_acc: 0.9154\n",
      "Epoch 19/50\n",
      "131/131 [==============================] - 3s 25ms/step - loss: 0.0962 - acc: 0.9485 - val_loss: 0.1669 - val_acc: 0.9160\n",
      "Epoch 20/50\n",
      "131/131 [==============================] - 3s 25ms/step - loss: 0.0954 - acc: 0.9519 - val_loss: 0.1748 - val_acc: 0.9215\n",
      "Epoch 21/50\n",
      "131/131 [==============================] - 3s 24ms/step - loss: 0.0942 - acc: 0.9519 - val_loss: 0.1718 - val_acc: 0.9178\n",
      "Epoch 22/50\n",
      "131/131 [==============================] - 3s 25ms/step - loss: 0.0940 - acc: 0.9538 - val_loss: 0.1768 - val_acc: 0.9191\n"
     ]
    },
    {
     "data": {
      "text/plain": [
       "<tensorflow.python.keras.callbacks.History at 0x26ea2e7e448>"
      ]
     },
     "execution_count": 47,
     "metadata": {},
     "output_type": "execute_result"
    }
   ],
   "source": [
    "model.fit([x_train, x_train],y_train,epochs=50,batch_size=50,validation_split=0.2, callbacks=callbacks)"
   ]
  },
  {
   "cell_type": "code",
   "execution_count": 48,
   "id": "complete-history",
   "metadata": {},
   "outputs": [
    {
     "name": "stdout",
     "output_type": "stream",
     "text": [
      "INFO:tensorflow:Assets written to: functional_1\\assets\n"
     ]
    }
   ],
   "source": [
    "model.save(\"functional_1\")"
   ]
  },
  {
   "cell_type": "code",
   "execution_count": 49,
   "id": "north-routine",
   "metadata": {},
   "outputs": [],
   "source": [
    "model_two = keras.models.load_model('functional_1')\n"
   ]
  },
  {
   "cell_type": "code",
   "execution_count": 1,
   "id": "alike-capital",
   "metadata": {},
   "outputs": [
    {
     "ename": "NameError",
     "evalue": "name 'x_train' is not defined",
     "output_type": "error",
     "traceback": [
      "\u001b[1;31m---------------------------------------------------------------------------\u001b[0m",
      "\u001b[1;31mNameError\u001b[0m                                 Traceback (most recent call last)",
      "\u001b[1;32m<ipython-input-1-aaf7dbbd88d7>\u001b[0m in \u001b[0;36m<module>\u001b[1;34m\u001b[0m\n\u001b[1;32m----> 1\u001b[1;33m \u001b[0mtest_inp\u001b[0m \u001b[1;33m=\u001b[0m \u001b[0mx_train\u001b[0m\u001b[1;33m[\u001b[0m\u001b[1;36m0\u001b[0m\u001b[1;33m]\u001b[0m\u001b[1;33m.\u001b[0m\u001b[0mreshape\u001b[0m\u001b[1;33m(\u001b[0m\u001b[1;33m-\u001b[0m\u001b[1;36m1\u001b[0m\u001b[1;33m,\u001b[0m\u001b[0mORDER_SIZE\u001b[0m\u001b[1;33m,\u001b[0m\u001b[1;36m3\u001b[0m\u001b[1;33m,\u001b[0m\u001b[1;36m3\u001b[0m\u001b[1;33m)\u001b[0m\u001b[1;33m\u001b[0m\u001b[1;33m\u001b[0m\u001b[0m\n\u001b[0m",
      "\u001b[1;31mNameError\u001b[0m: name 'x_train' is not defined"
     ]
    }
   ],
   "source": [
    "test_inp = x_train[0].reshape(-1,ORDER_SIZE,3,3)"
   ]
  },
  {
   "cell_type": "code",
   "execution_count": 54,
   "id": "valid-intervention",
   "metadata": {},
   "outputs": [],
   "source": [
    "pred = model_two.predict([test_inp, test_inp])"
   ]
  },
  {
   "cell_type": "code",
   "execution_count": 55,
   "id": "photographic-attitude",
   "metadata": {},
   "outputs": [
    {
     "data": {
      "text/plain": [
       "array([[0., 0., 0.]], dtype=float32)"
      ]
     },
     "execution_count": 55,
     "metadata": {},
     "output_type": "execute_result"
    }
   ],
   "source": [
    "np.round(pred)"
   ]
  },
  {
   "cell_type": "code",
   "execution_count": null,
   "id": "unavailable-shore",
   "metadata": {},
   "outputs": [],
   "source": []
  },
  {
   "cell_type": "raw",
   "id": "partial-perry",
   "metadata": {},
   "source": []
  }
 ],
 "metadata": {
  "kernelspec": {
   "display_name": "Python 3",
   "language": "python",
   "name": "python3"
  },
  "language_info": {
   "codemirror_mode": {
    "name": "ipython",
    "version": 3
   },
   "file_extension": ".py",
   "mimetype": "text/x-python",
   "name": "python",
   "nbconvert_exporter": "python",
   "pygments_lexer": "ipython3",
   "version": "3.7.10"
  }
 },
 "nbformat": 4,
 "nbformat_minor": 5
}
